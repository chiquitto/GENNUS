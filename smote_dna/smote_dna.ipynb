{
 "cells": [
  {
   "cell_type": "code",
   "execution_count": 1,
   "metadata": {},
   "outputs": [],
   "source": [
    "import csv\n",
    "from datetime import datetime\n",
    "import getopt\n",
    "from imblearn.over_sampling import SMOTE\n",
    "import numpy as np\n",
    "import random\n",
    "import sys"
   ]
  },
  {
   "cell_type": "markdown",
   "metadata": {},
   "source": [
    "# Input args"
   ]
  },
  {
   "cell_type": "code",
   "execution_count": 2,
   "metadata": {},
   "outputs": [],
   "source": [
    "def usage():\n",
    "    # python smote_dna/smote_dna.py --mode A --charmap \"N,A,C,G,T\" --padid 0 --samples 1000 --input input.csv --output output.txt\n",
    "    s = \"USAGE: \" \\\n",
    "        + \"python smote_dna.py \" \\\n",
    "        + \"--mode [A,B,C] \" \\\n",
    "        + \"--samples int \" \\\n",
    "        + \"--input input.txt \" \\\n",
    "        + \"--output output.txt \"\n",
    "    print(s)\n",
    "    \n",
    "def process_argv(argv):\n",
    "\n",
    "    requireds = [\"mode\", \"samples\", \"input\", \"output\"]\n",
    "    input_args = requireds + ['help']\n",
    "\n",
    "    try:\n",
    "        longopts = [ opt + \"=\" for opt in input_args ]\n",
    "        opts, args = getopt.getopt(argv[1:], \"\", longopts)\n",
    "    except getopt.GetoptError as e:\n",
    "        print(\"Wrong usage!\")\n",
    "        print(e)\n",
    "        usage()\n",
    "        sys.exit(1)\n",
    "\n",
    "    # parse the options\n",
    "    r = { 'charmap': 'N,A,C,G,T', 'padid': 0 }\n",
    "    for op, value in opts:\n",
    "        op = op.replace('--', '')\n",
    "        if op == 'help':\n",
    "            usage()\n",
    "            sys.exit()\n",
    "        elif op in input_args:\n",
    "            r[op] = value\n",
    "\n",
    "    for required in requireds:\n",
    "        if not required in r:\n",
    "            print(\"Wrong usage!!\")\n",
    "            print(\"Param {} is required\".format(required))\n",
    "            usage()\n",
    "            sys.exit(1)\n",
    "\n",
    "    return r\n",
    "\n",
    "def is_notebook() -> bool:\n",
    "    # https://stackoverflow.com/questions/15411967/how-can-i-check-if-code-is-executed-in-the-ipython-notebook\n",
    "    try:\n",
    "        shell = get_ipython().__class__.__name__\n",
    "        if shell == 'ZMQInteractiveShell':\n",
    "            return True   # Jupyter notebook or qtconsole\n",
    "        elif shell == 'TerminalInteractiveShell':\n",
    "            return False  # Terminal running IPython\n",
    "        else:\n",
    "            return False  # Other type (?)\n",
    "    except NameError:\n",
    "        return False      # Probably standard Python interpreter"
   ]
  },
  {
   "cell_type": "code",
   "execution_count": 3,
   "metadata": {},
   "outputs": [
    {
     "name": "stdout",
     "output_type": "stream",
     "text": [
      "opts= {'charmap': 'N,A,C,G,T', 'padid': 0, 'mode': 'A', 'samples': '1000', 'input': '../input/example_smote_input.csv', 'output': '../tmp/smote_tmp.txt'}\n"
     ]
    }
   ],
   "source": [
    "if is_notebook():\n",
    "    argv = ['filename.py',\n",
    "            \"--mode\", \"A\",\n",
    "            # \"--charmap\", \"N,A,C,G,T\",\n",
    "            # \"--padid\", \"0\",\n",
    "            \"--samples\", \"1000\",\n",
    "            \"--input\", \"../input/example_smote_input.csv\",\n",
    "            \"--output\", \"../tmp/smote_tmp.txt\"\n",
    "            ]\n",
    "    opts = process_argv(argv)\n",
    "\n",
    "if not is_notebook():\n",
    "    opts = process_argv(sys.argv)\n",
    "\n",
    "print(\"opts=\", opts)\n",
    "\n",
    "mode = opts['mode']\n",
    "charmap = opts['charmap'].split(\",\")\n",
    "padding_id = int(opts['padid'])\n",
    "samples = int(opts[\"samples\"])\n",
    "file_input = opts['input']\n",
    "file_output = opts['output']\n",
    "\n",
    "padnt = charmap[padding_id]"
   ]
  },
  {
   "cell_type": "markdown",
   "metadata": {},
   "source": [
    "# Opening the input file"
   ]
  },
  {
   "cell_type": "code",
   "execution_count": 4,
   "metadata": {},
   "outputs": [],
   "source": [
    "# You need to open the file, and generate a list like:\n",
    "# [ {seq:string, class:int} ]\n",
    "# The seq value should be a string with the DNA sequence\n",
    "# The class value should be a INTEGER that represents a class\n",
    "# For example: miRNA=0 and mirtron=1\n",
    "# Dont use strings to represent the class\n",
    "\n",
    "# file_output = f\"./generated/{run_id}.txt\""
   ]
  },
  {
   "cell_type": "code",
   "execution_count": 5,
   "metadata": {},
   "outputs": [],
   "source": [
    "def seq_cleaning1(seq):\n",
    "    return seq.upper().replace(\"U\", \"T\")"
   ]
  },
  {
   "cell_type": "code",
   "execution_count": 6,
   "metadata": {},
   "outputs": [],
   "source": [
    "# Loading a CSV file\n",
    "sequences = []\n",
    "with open(file_input, newline='') as csvfile:\n",
    "    csvreader = csv.reader(csvfile)\n",
    "    # csvreader = csv.DictReader(csvfile, fieldnames=[\"id\",\"seq\",\"class\"])\n",
    "    for row in csvreader:\n",
    "        classint = 1 if row[1]==\"TRUE\" else 0\n",
    "        seq = {\"seq\": seq_cleaning1(row[0]), \"class\": classint}\n",
    "\n",
    "        sequences.append(seq)"
   ]
  },
  {
   "cell_type": "markdown",
   "metadata": {},
   "source": [
    "# Preprocessing"
   ]
  },
  {
   "cell_type": "code",
   "execution_count": null,
   "metadata": {},
   "outputs": [],
   "source": [
    "charmap_inv = { v:k for k,v in enumerate(charmap) }\n",
    "\n",
    "def seq_padding(seq, max_length):\n",
    "    d = max_length - len(seq)\n",
    "    if d > 0: return seq + ( \"N\" * d )\n",
    "    else: return seq[:max_length]\n",
    "\n",
    "def dna2int(seq):\n",
    "    return [ charmap_inv[nt] for nt in seq ]\n",
    "\n",
    "def seq_encode(seq):\n",
    "    seq = seq_padding(seq, max_length)\n",
    "    return dna2int(seq)"
   ]
  },
  {
   "cell_type": "code",
   "execution_count": null,
   "metadata": {},
   "outputs": [],
   "source": [
    "# Padding and convert sequences for integers\n",
    "\n",
    "min_length = min( len(item[\"seq\"]) for item in sequences )\n",
    "max_length = max( len(item[\"seq\"]) for item in sequences )\n",
    "\n",
    "min_length0 = min( len(item[\"seq\"]) for item in sequences if item[\"class\"] == 0 )\n",
    "max_length0 = max( len(item[\"seq\"]) for item in sequences if item[\"class\"] == 0 )\n",
    "\n",
    "min_length1 = min( len(item[\"seq\"]) for item in sequences if item[\"class\"] == 1 )\n",
    "max_length1 = max( len(item[\"seq\"]) for item in sequences if item[\"class\"] == 1 )\n",
    "\n",
    "print(f\"min_length={min_length}\")\n",
    "print(f\"max_length={max_length}\")\n",
    "print(f\"min_length0={min_length0}\")\n",
    "print(f\"max_length0={max_length0}\")\n",
    "print(f\"min_length1={min_length1}\")\n",
    "print(f\"max_length1={max_length1}\")"
   ]
  },
  {
   "cell_type": "code",
   "execution_count": null,
   "metadata": {},
   "outputs": [],
   "source": [
    "sequences_data = []\n",
    "sequences_label = []\n",
    "for item in sequences:\n",
    "    seq = seq_encode(item[\"seq\"])\n",
    "    sequences_data.append(seq)\n",
    "    sequences_label.append(item[\"class\"])"
   ]
  },
  {
   "cell_type": "markdown",
   "metadata": {},
   "source": [
    "# Obtaining X and Y"
   ]
  },
  {
   "cell_type": "code",
   "execution_count": null,
   "metadata": {},
   "outputs": [],
   "source": [
    "X = np.array(sequences_data)\n",
    "Y = np.array(sequences_label)"
   ]
  },
  {
   "cell_type": "markdown",
   "metadata": {},
   "source": [
    "# Generating data"
   ]
  },
  {
   "cell_type": "code",
   "execution_count": null,
   "metadata": {},
   "outputs": [],
   "source": [
    "def smote_filter1(data):\n",
    "    has_padding = False\n",
    "\n",
    "    # Test IF there is padding in middle of data\n",
    "    for nt_number in data:\n",
    "        if has_padding and nt_number != padding_id:\n",
    "            return None\n",
    "        elif nt_number == padding_id:\n",
    "            has_padding = True\n",
    "    return data"
   ]
  },
  {
   "cell_type": "code",
   "execution_count": null,
   "metadata": {},
   "outputs": [],
   "source": [
    "# Replace padding in middle for another nt\n",
    "def smote_filter2(data):\n",
    "    original_len = len(data)\n",
    "\n",
    "    if isinstance(data, np.ndarray):\n",
    "        data = data.tolist()\n",
    "\n",
    "    # pop zeros from end\n",
    "    while data[-1] == padding_id:\n",
    "        data.pop()\n",
    "    \n",
    "    # replace padding for a random nt\n",
    "    if padding_id in data:\n",
    "        minimum, maximum = 1, 4\n",
    "        for k in range(len(data)):\n",
    "            if data[k] == padding_id:\n",
    "                data[k] = random.randint(minimum, maximum)\n",
    "    \n",
    "    data_len = len(data)\n",
    "    if data_len < original_len:\n",
    "        data += [padding_id] * (original_len - data_len)\n",
    "\n",
    "    return data"
   ]
  },
  {
   "cell_type": "code",
   "execution_count": null,
   "metadata": {},
   "outputs": [],
   "source": [
    "# Remove padding in middle\n",
    "def smote_filter3(data):\n",
    "    original_len = len(data)\n",
    "\n",
    "    data = [ k for k in data if k != padding_id ]\n",
    "    \n",
    "    data_len = len(data)\n",
    "    if data_len < original_len:\n",
    "        data += [padding_id] * (original_len - data_len)\n",
    "\n",
    "    return data"
   ]
  },
  {
   "cell_type": "code",
   "execution_count": null,
   "metadata": {},
   "outputs": [],
   "source": [
    "def smote_resample_filtered(X, Y,\n",
    "    smote_filter_def,\n",
    "    number_sampled = 0,\n",
    "    class_upsampling = 1, smotting = 10**6):\n",
    "\n",
    "    len_total = Y.shape[0]\n",
    "\n",
    "    if number_sampled == 0:\n",
    "        len_class1 = Y[ Y == class_upsampling ].shape[0]\n",
    "        len_class0 = len_total - len_class1\n",
    "\n",
    "        if len_class1 >= len_class0: return np.array([])\n",
    "        number_sampled = len_class0 - len_class1\n",
    "\n",
    "    X_return = []\n",
    "\n",
    "    while smotting > 0:\n",
    "\n",
    "        sm = SMOTE()\n",
    "        X_sm, Y_sm = sm.fit_resample(X, Y)\n",
    "        X_smoted = X_sm[ len_total: ]\n",
    "        # Y_smoted = Y_sm[ len_total: ]\n",
    "\n",
    "        # Find data without padding in middle\n",
    "        for x_item in X_smoted:\n",
    "            newX = smote_filter_def(x_item)\n",
    "            if not newX is None:\n",
    "                X_return.append(newX)\n",
    "\n",
    "            if len(X_return) >= number_sampled:\n",
    "                smotting = 0\n",
    "                break\n",
    "\n",
    "        smotting -= 1\n",
    "\n",
    "    return np.array(X_return)\n",
    "\n",
    "if mode == \"A\":\n",
    "    smote_filter_def = smote_filter1\n",
    "elif mode == \"B\":\n",
    "    smote_filter_def = smote_filter2\n",
    "elif mode == \"C\":\n",
    "    smote_filter_def = smote_filter3\n",
    "else:\n",
    "    raise ValueError(\"MODE should be A, B or C\")\n",
    "\n",
    "newx = smote_resample_filtered(X, Y,\n",
    "    smote_filter_def=smote_filter_def,\n",
    "    number_sampled=samples )# , smotting=1)\n",
    "\n",
    "newy = np.array([1] * newx.shape[0])"
   ]
  },
  {
   "cell_type": "markdown",
   "metadata": {},
   "source": [
    "# Write to file"
   ]
  },
  {
   "cell_type": "code",
   "execution_count": null,
   "metadata": {},
   "outputs": [],
   "source": [
    "def seq_decode(seq):\n",
    "    seq = \"\".join([ charmap[s] for s in seq ])\n",
    "    return seq.rstrip(\"N\")\n",
    "\n",
    "new_sequences = []\n",
    "for newx_item in newx:\n",
    "    newx_item = seq_decode(newx_item)\n",
    "    new_sequences.append(newx_item)"
   ]
  },
  {
   "cell_type": "code",
   "execution_count": null,
   "metadata": {},
   "outputs": [],
   "source": [
    "with open(file_output, 'w') as fp:\n",
    "    for item in new_sequences:\n",
    "        fp.write(\"%s\\n\" % item)\n",
    "\n",
    "print(\"Output created: %s\" % file_output)"
   ]
  }
 ],
 "metadata": {
  "kernelspec": {
   "display_name": "mirgan004.1",
   "language": "python",
   "name": "python3"
  },
  "language_info": {
   "codemirror_mode": {
    "name": "ipython",
    "version": 3
   },
   "file_extension": ".py",
   "mimetype": "text/x-python",
   "name": "python",
   "nbconvert_exporter": "python",
   "pygments_lexer": "ipython3",
   "version": "3.10.11"
  }
 },
 "nbformat": 4,
 "nbformat_minor": 2
}
